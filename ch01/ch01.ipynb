{
 "cells": [
  {
   "cell_type": "code",
   "execution_count": 2,
   "metadata": {
    "scrolled": true
   },
   "outputs": [
    {
     "name": "stdout",
     "output_type": "stream",
     "text": [
      "desserts\n"
     ]
    },
    {
     "data": {
      "text/plain": [
       "\"\\nどうやらスライスの問題だったっぽい\\nstr = 'stressed'\\nans = str[::-1]  # 「先頭」から「末尾」まで「逆順の移動幅1」で\\n\\nprint(ans)\\n\""
      ]
     },
     "execution_count": 2,
     "metadata": {},
     "output_type": "execute_result"
    }
   ],
   "source": [
    "# 問題00\n",
    "text = 'stressed'\n",
    "reverse_text = ''.join(list(reversed(text))) # listにしてからreverse()して文字列に連結して戻す\n",
    "print(reverse_text)\n",
    "\n",
    "\"\"\"\n",
    "どうやらスライスの問題だったっぽい\n",
    "str = 'stressed'\n",
    "ans = str[::-1]  # 「先頭」から「末尾」まで「逆順の移動幅1」で\n",
    "\n",
    "print(ans)\n",
    "\"\"\""
   ]
  },
  {
   "cell_type": "code",
   "execution_count": 3,
   "metadata": {},
   "outputs": [
    {
     "name": "stdout",
     "output_type": "stream",
     "text": [
      "タクシー\n"
     ]
    },
    {
     "data": {
      "text/plain": [
       "\"\\nこれもスライスだとこんなにスッキリ\\nstr = 'パタトクカシーー'\\nans = str[::2]  # 「先頭」から「末尾」まで「移動幅2」で\\n\\nprint(ans)\\n\""
      ]
     },
     "execution_count": 3,
     "metadata": {},
     "output_type": "execute_result"
    }
   ],
   "source": [
    "# 問題01\n",
    "text = 'パタトクカシーー'\n",
    "text_list = list(text)\n",
    "pull_list = []\n",
    "for i in range(len(text_list)): # pythonのforはrangeを使って配列の添字を数字にする\n",
    "    if i % 2 == 1:\n",
    "        pull_list.append(text_list[i])\n",
    "        \n",
    "    \n",
    "pull_text = ''.join(pull_list)\n",
    "print(pull_text)\n",
    "\n",
    "\"\"\"\n",
    "これもスライスだとこんなにスッキリ\n",
    "str = 'パタトクカシーー'\n",
    "ans = str[::2]  # 「先頭」から「末尾」まで「移動幅2」で\n",
    "\n",
    "print(ans)\n",
    "\"\"\""
   ]
  },
  {
   "cell_type": "code",
   "execution_count": 4,
   "metadata": {},
   "outputs": [
    {
     "name": "stdout",
     "output_type": "stream",
     "text": [
      "パタトクカシーー\n"
     ]
    },
    {
     "data": {
      "text/plain": [
       "\"\\nリスト内包表記はわかりづらいなぁ...\\nstr1 = 'パトカー'\\nstr2 = 'タクシー'\\nans = ''.join([i + j for i, j in zip(str1, str2)])\\n\\nprint(ans)\\n\""
      ]
     },
     "execution_count": 4,
     "metadata": {},
     "output_type": "execute_result"
    }
   ],
   "source": [
    "# 問題02\n",
    "text1 = 'パトカー'\n",
    "text2 = 'タクシー'\n",
    "text1_list = list(text1)\n",
    "text2_list = list(text2)\n",
    "text_size = 4\n",
    "join_list = []\n",
    "\n",
    "for i in range(text_size):\n",
    "    join_list.append(text1_list[i])\n",
    "    join_list.append(text2_list[i])\n",
    "\n",
    "join_text = ''.join(join_list)\n",
    "print(join_text)\n",
    "\n",
    "\"\"\"\n",
    "リスト内包表記はわかりづらいなぁ...\n",
    "str1 = 'パトカー'\n",
    "str2 = 'タクシー'\n",
    "ans = ''.join([i + j for i, j in zip(str1, str2)])\n",
    "\n",
    "print(ans)\n",
    "\"\"\""
   ]
  },
  {
   "cell_type": "code",
   "execution_count": 5,
   "metadata": {},
   "outputs": [
    {
     "name": "stdout",
     "output_type": "stream",
     "text": [
      "[3, 1, 4, 1, 5, 9, 2, 6, 5, 3, 5, 8, 9, 7, 9]\n"
     ]
    },
    {
     "data": {
      "text/plain": [
       "\"\\n薄々と正規表現は使うとは思ってた。\\nしかしまあ、こんなスッキリするとは（リスト内包はまだ慣れず...）\\n\\nimport re\\n\\nstr = 'Now I need a drink, alcoholic of course, after the heavy lectures involving quantum mechanics.'\\nstr = re.sub('[,\\\\.]', '', str)  # ,と.を除去\\nsplits = str.split()  # スペースで区切って単語ごとのリストを作成\\nans = [len(i) for i in splits]\\n\""
      ]
     },
     "execution_count": 5,
     "metadata": {},
     "output_type": "execute_result"
    }
   ],
   "source": [
    "# 問題03\n",
    "text = 'Now I need a drink, alcoholic of course, after the heavy lectures involving quantum mechanics.'\n",
    "text1 = text.replace(',', '')\n",
    "text_list = list(text1)\n",
    "word = []\n",
    "count_list = []\n",
    "\n",
    "\n",
    "for s in text_list:\n",
    "    if s == ' ':\n",
    "        count_list.append(len(word))\n",
    "        word.clear()\n",
    "        continue\n",
    "    elif s == '.':\n",
    "        count_list.append(len(word))\n",
    "        word.clear()\n",
    "        break\n",
    "    \n",
    "    word.append(s)\n",
    "\n",
    "print(count_list)\n",
    "\n",
    "\"\"\"\n",
    "薄々と正規表現は使うとは思ってた。\n",
    "しかしまあ、こんなスッキリするとは（リスト内包はまだ慣れず...）\n",
    "\n",
    "import re\n",
    "\n",
    "str = 'Now I need a drink, alcoholic of course, after the heavy lectures involving quantum mechanics.'\n",
    "str = re.sub('[,\\.]', '', str)  # ,と.を除去\n",
    "splits = str.split()  # スペースで区切って単語ごとのリストを作成\n",
    "ans = [len(i) for i in splits]\n",
    "\"\"\""
   ]
  },
  {
   "cell_type": "code",
   "execution_count": 6,
   "metadata": {},
   "outputs": [
    {
     "name": "stdout",
     "output_type": "stream",
     "text": [
      "{1: 'H', 2: 'He', 3: 'Li', 4: 'Be', 5: 'B', 6: 'C', 7: 'N', 8: 'O', 9: 'F', 10: 'Ne', 11: 'Na', 12: 'Mi', 13: 'Al', 14: 'Si', 15: 'P', 16: 'S', 17: 'Cl', 18: 'Ar', 19: 'K', 20: 'Ca'}\n"
     ]
    },
    {
     "data": {
      "text/plain": [
       "\"\\nどうやらenumerate()をうまく使ってるくさい\\nzip()とかも慣れたほうがいいのだろうか\\n他の考えは大差ない\\n\\nstr = 'Hi He Lied Because Boron Could Not Oxidize Fluorine. New Nations Might Also Sign Peace Security Clause. Arthur King Can.'\\nsplits = str.split()\\none_ch = [1, 5, 6, 7, 8, 9, 15, 16, 19]  # 1文字を取り出す単語の番号リスト\\nans = {}\\nfor i, word in enumerate(splits):\\n  if i + 1 in one_ch:\\n    ans[word[:1]] = i + 1  # リストにあれば1文字を取得\\n  else:\\n    ans[word[:2]] = i + 1  # なければ2文字を取得\\n\\nprint(ans)\\n\""
      ]
     },
     "execution_count": 6,
     "metadata": {},
     "output_type": "execute_result"
    }
   ],
   "source": [
    "# 問題04\n",
    "import re\n",
    "\n",
    "text = 'Hi He Lied Because Boron Could Not Oxidize Fluorine. New Nations Might Also Sign Peace Security Clause. Arthur King Can.'\n",
    "only_first_list = [1, 5, 6, 7, 8, 9, 15, 16, 19]\n",
    "\n",
    "text = re.sub('[,\\.]', '', text)\n",
    "words = text.split()\n",
    "element_dict = {}\n",
    "for word_id in range(len(words)):\n",
    "    element = words[word_id] \n",
    "    if (word_id + 1) in only_first_list:\n",
    "        element_dict[word_id + 1] = element[0]\n",
    "    else:\n",
    "        element_dict[word_id + 1] = element[0:2]\n",
    "\n",
    "print(element_dict) # なんか12番だけおかしいが問題の指示通りなはず...\n",
    "\n",
    "'''\n",
    "どうやらenumerate()をうまく使ってるくさい\n",
    "zip()とかも慣れたほうがいいのだろうか\n",
    "他の考えは大差ない\n",
    "\n",
    "str = 'Hi He Lied Because Boron Could Not Oxidize Fluorine. New Nations Might Also Sign Peace Security Clause. Arthur King Can.'\n",
    "splits = str.split()\n",
    "one_ch = [1, 5, 6, 7, 8, 9, 15, 16, 19]  # 1文字を取り出す単語の番号リスト\n",
    "ans = {}\n",
    "for i, word in enumerate(splits):\n",
    "  if i + 1 in one_ch:\n",
    "    ans[word[:1]] = i + 1  # リストにあれば1文字を取得\n",
    "  else:\n",
    "    ans[word[:2]] = i + 1  # なければ2文字を取得\n",
    "\n",
    "print(ans)\n",
    "'''"
   ]
  },
  {
   "cell_type": "code",
   "execution_count": 7,
   "metadata": {},
   "outputs": [
    {
     "name": "stdout",
     "output_type": "stream",
     "text": [
      "['I', ' ', 'a', 'm', ' ', 'a', 'n', ' ', 'N', 'L', 'P', 'e', 'r']\n",
      "[['I'], ['am'], ['an'], ['NLPer']]\n",
      "['I ', ' a', 'am', 'm ', ' a', 'an', 'n ', ' N', 'NL', 'LP', 'Pe', 'er']\n",
      "[['I', 'am'], ['am', 'an'], ['an', 'NLPer']]\n",
      "['I a', ' am', 'am ', 'm a', ' an', 'an ', 'n N', ' NL', 'NLP', 'LPe', 'Per']\n",
      "[['I', 'am', 'an'], ['am', 'an', 'NLPer']]\n"
     ]
    }
   ],
   "source": [
    "# 問題05\n",
    "'''\n",
    "import re\n",
    "\n",
    "sep_num = 2 # bi-gram\n",
    "\n",
    "text = 'I am an NLPer'\n",
    "text = re.sub('[,\\.]', '', text)\n",
    "\n",
    "# chars = list(text.replace(' ', ''))\n",
    "chars = list(text)\n",
    "words = text.split()\n",
    "\n",
    "def n_gram(sequence, sep_num):\n",
    "    n_gram = []\n",
    "    for i in range(len(sequence)):\n",
    "        sec_point = i + sep_num\n",
    "        gram = sequence[i:sec_point]\n",
    "        n_gram.append(gram)\n",
    "        if (sec_point) == len(sequence):\n",
    "            break\n",
    "    \n",
    "    return n_gram\n",
    "\n",
    "print(n_gram(chars, sep_num))\n",
    "print(n_gram(words, sep_num))\n",
    "\n",
    "# まあこれでも8割出来てると思うが、\n",
    "# スライスの実装やリスト内包表記はこれから多発するんやろうな\n",
    "'''\n",
    "def n_gram(target, n):\n",
    "    return [target[idx:idx + n] for idx in range(len(target) - n + 1)]\n",
    "\n",
    "\n",
    "text = 'I am an NLPer'\n",
    "for i in range(1, 4):\n",
    "    print(n_gram(text, i))\n",
    "    print(n_gram(text.split(' '), i))"
   ]
  },
  {
   "cell_type": "code",
   "execution_count": 8,
   "metadata": {},
   "outputs": [
    {
     "name": "stdout",
     "output_type": "stream",
     "text": [
      "{'se', 'ap', 'ra', 'di', 'pa', 'is', 'ad', 'ar'}\n",
      "{'ph', 'ap', 'gr', 'ra', 'ag', 'pa', 'ar'}\n",
      "{'ag', 'se', 'ph', 'ap', 'ra', 'di', 'gr', 'pa', 'is', 'ad', 'ar'}\n",
      "{'ap', 'pa', 'ar', 'ra'}\n",
      "{'di', 'ad', 'is', 'se'}\n",
      "True\n",
      "False\n"
     ]
    }
   ],
   "source": [
    "# 問題06\n",
    "# setで集合にして演算かね\n",
    "text1 = 'paraparaparadise'\n",
    "text2 = 'paragraph'\n",
    "BI_GRAM = 2\n",
    "\n",
    "# とりあえずn-gramにしてからsetにする\n",
    "def n_gram(target, n):\n",
    "    return [target[idx:idx + n] for idx in range(len(target) - n + 1)]\n",
    "\n",
    "X = set(n_gram(text1, BI_GRAM))\n",
    "Y = set(n_gram(text2, BI_GRAM))\n",
    "print(X)\n",
    "print(Y)\n",
    "# 和集合\n",
    "print(X | Y)\n",
    "# 積集合\n",
    "print(X & Y)\n",
    "# 差集合\n",
    "print(X - Y)\n",
    "# 部分集合の判定\n",
    "Z = {'se'}\n",
    "print(Z <= X)\n",
    "print(Z <= Y)\n",
    "\n",
    "# 解答と全く同じ"
   ]
  },
  {
   "cell_type": "code",
   "execution_count": 9,
   "metadata": {},
   "outputs": [
    {
     "name": "stdout",
     "output_type": "stream",
     "text": [
      "12時の気温は22.4\n"
     ]
    },
    {
     "data": {
      "text/plain": [
       "\"\\nこういう書き方もあるよって話かな\\nformat使うことあると思うし\\ndef generate_sentence(x, y, z):\\n  print(f'{x}時のとき{y}は{z}')\\n\\ngenerate_sentence(12, '気温', 22.4)\\n\""
      ]
     },
     "execution_count": 9,
     "metadata": {},
     "output_type": "execute_result"
    }
   ],
   "source": [
    "# 問題07\n",
    "def sentence_generator(x, y, z):\n",
    "    return str(x) + '時の' + y + 'は' + str(z)\n",
    "x = 12\n",
    "y = '気温'\n",
    "z = 22.4\n",
    "\n",
    "print(sentence_generator(x, y, z))\n",
    "\n",
    "'''\n",
    "こういう書き方もあるよって話かな\n",
    "format使うことあると思うし\n",
    "def generate_sentence(x, y, z):\n",
    "  print(f'{x}時のとき{y}は{z}')\n",
    "\n",
    "generate_sentence(12, '気温', 22.4)\n",
    "'''"
   ]
  },
  {
   "cell_type": "code",
   "execution_count": 10,
   "metadata": {},
   "outputs": [
    {
     "name": "stdin",
     "output_type": "stream",
     "text": [
      "文字列を入力してください-->  Hello World!!\n"
     ]
    },
    {
     "name": "stdout",
     "output_type": "stream",
     "text": [
      "暗号化:Hvool Wliow!!\n",
      "復号化:Hello World!!\n"
     ]
    }
   ],
   "source": [
    "# 問題08\n",
    "# まず問題文の意味がわからんかった\n",
    "# 以下答えのコードを完コピ\n",
    "def cipher(target):\n",
    "    '''文字列の暗号化、復号化\n",
    "    以下の仕様で文字列を変換する\n",
    "    ・英小文字ならば(219 - 文字コード)の文字に置換\n",
    "    ・その他の文字はそのまま出力\n",
    "\n",
    "    引数:\n",
    "    target -- 対象の文字列\n",
    "    戻り値:\n",
    "    変換した文字列\n",
    "    '''\n",
    "    result = ''\n",
    "    for c in target:\n",
    "        if c.islower(): # islowerで小文字判定\n",
    "            result += chr(219 - ord(c)) # こうやって暗号化＋復号しとるみたい\n",
    "        else:\n",
    "            result += c\n",
    "    return result\n",
    "\n",
    "\n",
    "# 対象文字列の入力\n",
    "target = input('文字列を入力してください--> ')\n",
    "\n",
    "# 暗号化\n",
    "result = cipher(target)\n",
    "print('暗号化:' + result)\n",
    "\n",
    "# 復号化\n",
    "result2 = cipher(result)\n",
    "print('復号化:' + result2)\n",
    "\n",
    "# 復号化で元に戻っているかチェック\n",
    "if result2 != target:\n",
    "    print('元に戻っていない！？')"
   ]
  },
  {
   "cell_type": "code",
   "execution_count": 11,
   "metadata": {},
   "outputs": [
    {
     "name": "stdout",
     "output_type": "stream",
     "text": [
      "['I', 'couldn’t', 'believe', 'that', 'I', 'could', 'actually', 'understand', 'what', 'I', 'was', 'reading', ':', 'the', 'phenomenal', 'power', 'of', 'the', 'human', 'mind', '.']\n",
      "['I', 'c’lnodut', 'bieevle', 'that', 'I', 'culod', 'aalutlcy', 'uatnsnderd', 'what', 'I', 'was', 'rniedag', ':', 'the', 'pmohneenal', 'pwoer', 'of', 'the', 'haumn', 'mind', '.']\n"
     ]
    },
    {
     "data": {
      "text/plain": [
       "'\\n関数にしただけっぽい\\ndef shuffle(words):\\n  result = []\\n  for word in words.split():\\n    if len(word) > 4:  # 長さが4超であればシャッフル\\n      word = word[:1] + \\'\\'.join(random.sample(word[1:-1], len(word) - 2)) + word[-1:]\\n    result.append(word)\\n\\n  return \\' \\'.join(result)\\n\\nwords = \"I couldn\\'t believe that I could actually understand what I was reading : the phenomenal power of the human mind .\"\\nans = shuffle(words)\\n\\nprint(ans)\\n'"
      ]
     },
     "execution_count": 11,
     "metadata": {},
     "output_type": "execute_result"
    }
   ],
   "source": [
    "# 問題09\n",
    "import random\n",
    "\n",
    "text = 'I couldn’t believe that I could actually understand what I was reading : the phenomenal power of the human mind .'\n",
    "words = text.split()\n",
    "Typoglycemia = []\n",
    "\n",
    "for word in words:\n",
    "    if len(word) <= 4:\n",
    "        Typoglycemia.append(word)\n",
    "    else:\n",
    "        first = word[0]\n",
    "        last = word[-1]\n",
    "        target = word[1:-1]\n",
    "        shuffle_w = ''.join(random.sample(target, len(target)))\n",
    "        Typoglycemia.append(first + shuffle_w + last)\n",
    "\n",
    "print(words)\n",
    "print(Typoglycemia)\n",
    "\n",
    "'''\n",
    "関数にしただけっぽい\n",
    "def shuffle(words):\n",
    "  result = []\n",
    "  for word in words.split():\n",
    "    if len(word) > 4:  # 長さが4超であればシャッフル\n",
    "      word = word[:1] + ''.join(random.sample(word[1:-1], len(word) - 2)) + word[-1:]\n",
    "    result.append(word)\n",
    "\n",
    "  return ' '.join(result)\n",
    "\n",
    "words = \"I couldn't believe that I could actually understand what I was reading : the phenomenal power of the human mind .\"\n",
    "ans = shuffle(words)\n",
    "\n",
    "print(ans)\n",
    "'''"
   ]
  },
  {
   "cell_type": "code",
   "execution_count": null,
   "metadata": {},
   "outputs": [],
   "source": []
  }
 ],
 "metadata": {
  "kernelspec": {
   "display_name": "Python 3",
   "language": "python",
   "name": "python3"
  },
  "language_info": {
   "codemirror_mode": {
    "name": "ipython",
    "version": 3
   },
   "file_extension": ".py",
   "mimetype": "text/x-python",
   "name": "python",
   "nbconvert_exporter": "python",
   "pygments_lexer": "ipython3",
   "version": "3.8.5"
  }
 },
 "nbformat": 4,
 "nbformat_minor": 4
}
