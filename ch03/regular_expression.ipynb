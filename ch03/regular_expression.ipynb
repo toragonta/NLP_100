{
 "cells": [
  {
   "cell_type": "code",
   "execution_count": 1,
   "metadata": {},
   "outputs": [],
   "source": [
    "import re"
   ]
  },
  {
   "cell_type": "code",
   "execution_count": 2,
   "metadata": {},
   "outputs": [
    {
     "name": "stdout",
     "output_type": "stream",
     "text": [
      "<re.Match object; span=(0, 3), match='abc'>\n",
      "None\n"
     ]
    }
   ],
   "source": [
    "# 以下正規表現の基礎固め\n",
    "match1 = re.match('abc', 'abcde') #マッチする\n",
    "print(match1)\n",
    "match1 = re.match('abc', 'ababc') #マッチしない\n",
    "print(match1)"
   ]
  },
  {
   "cell_type": "code",
   "execution_count": 3,
   "metadata": {},
   "outputs": [
    {
     "name": "stdout",
     "output_type": "stream",
     "text": [
      "None\n",
      "None\n"
     ]
    }
   ],
   "source": [
    "# matchはデフォルトで大文字と小文字を区別する\n",
    "match1 = re.match('abc', 'ABCdef')\n",
    "print(match1)\n",
    "match1 = re.match('ABC', 'abcdef')\n",
    "print(match1)"
   ]
  },
  {
   "cell_type": "code",
   "execution_count": 4,
   "metadata": {},
   "outputs": [
    {
     "name": "stdout",
     "output_type": "stream",
     "text": [
      "<re.Match object; span=(0, 3), match='ABC'>\n",
      "<re.Match object; span=(0, 3), match='ABC'>\n"
     ]
    }
   ],
   "source": [
    "# re.IまたはIGNORECASEで大文字と小文字を区別しないことが可能\n",
    "match1 = re.match('abc', 'ABCdef', re.IGNORECASE)\n",
    "print(match1)\n",
    "match2 = re.match('abc', 'ABCdef', re.I)\n",
    "print(match2)"
   ]
  },
  {
   "cell_type": "code",
   "execution_count": 5,
   "metadata": {},
   "outputs": [
    {
     "name": "stdout",
     "output_type": "stream",
     "text": [
      "None\n"
     ]
    }
   ],
   "source": [
    "# matchは先頭しか調べないからこういうのはマッチしない\n",
    "match1 = re.match('def', 'abcdef')\n",
    "print(match1)"
   ]
  },
  {
   "cell_type": "code",
   "execution_count": 6,
   "metadata": {},
   "outputs": [
    {
     "name": "stdout",
     "output_type": "stream",
     "text": [
      "<re.Match object; span=(3, 6), match='def'>\n"
     ]
    }
   ],
   "source": [
    "# searchは先頭以外でもマッチできる\n",
    "match1 = re.search('def', 'abcdef')\n",
    "print(match1)"
   ]
  },
  {
   "cell_type": "code",
   "execution_count": 7,
   "metadata": {},
   "outputs": [
    {
     "name": "stdout",
     "output_type": "stream",
     "text": [
      "<re.Match object; span=(3, 6), match='def'>\n"
     ]
    }
   ],
   "source": [
    "# searchもre.Iがいける\n",
    "match1 = re.search('DEF', 'abcdef', re.I)\n",
    "print(match1)"
   ]
  },
  {
   "cell_type": "code",
   "execution_count": 8,
   "metadata": {},
   "outputs": [
    {
     "name": "stdout",
     "output_type": "stream",
     "text": [
      "<re.Match object; span=(2, 5), match='abc'>\n",
      "None\n",
      "<re.Match object; span=(3, 6), match='def'>\n",
      "None\n",
      "<re.Match object; span=(9, 12), match='def'>\n"
     ]
    }
   ],
   "source": [
    "# 先頭を表す^と最後を表す$\n",
    "match1 = re.search('abc', 'ababcd')  #キャレットなしだとマッチする\n",
    "print(match1)\n",
    "match1 = re.search('^abc', 'ababcd') #キャレットありだとマッチしない\n",
    "print(match1)\n",
    "match1 = re.search('def', 'abcdefg') #ドル記号なしだとマッチする\n",
    "print(match1)\n",
    "match1 = re.search('def$', 'abcdefg') #ドル記号ありだとマッチしない\n",
    "print(match1)\n",
    "match1 = re.search('def$', 'abcdefxyzdef') # 2つあるうちの2番目（最後）の def にマッチする\n",
    "print(match1)"
   ]
  },
  {
   "cell_type": "code",
   "execution_count": 9,
   "metadata": {},
   "outputs": [
    {
     "name": "stdout",
     "output_type": "stream",
     "text": [
      "<re.Match object; span=(2, 4), match='de'>\n",
      "<re.Match object; span=(0, 2), match='ab'>\n",
      "<re.Match object; span=(2, 4), match='de'>\n",
      "None\n",
      "<re.Match object; span=(13, 14), match='a'>\n",
      "<re.Match object; span=(13, 16), match='the'>\n",
      "<re.Match object; span=(0, 12), match='Good Evening'>\n",
      "<re.Match object; span=(5, 10), match='color'>\n",
      "<re.Match object; span=(5, 11), match='colour'>\n"
     ]
    }
   ],
   "source": [
    "# |は和でマッチ条件を複数にできる\n",
    "match1 = re.search('ab|de', 'bcdef')\n",
    "print(match1)\n",
    "match1 = re.search('ab|de', 'abcdef')\n",
    "print(match1)\n",
    "match1 = re.search('ab|de', 'fgdeab')\n",
    "print(match1)\n",
    "match1 = re.search('ab|de', 'acdf')\n",
    "print(match1)\n",
    "match1 = re.search('a|an|the', 'I slipped on a piece of the banana.')\n",
    "print(match1)\n",
    "match1 = re.search('a|an|the', 'I slipped on the banana.')\n",
    "print(match1)\n",
    "match1 = re.search('Good (Morning|Evening)', 'Good Evening, Vietnam.') #正規表現内の（）については下で述べます\n",
    "print(match1)\n",
    "match1 = re.search('colo(u|)r', 'That color matches your suit.') #正規表現内の（）については下で述べます\n",
    "print(match1)\n",
    "match1 = re.search('colo(u|)r', 'That colour matches your suit.') #正規表現内の（）については下で述べます\n",
    "print(match1)"
   ]
  },
  {
   "cell_type": "code",
   "execution_count": 10,
   "metadata": {},
   "outputs": [
    {
     "name": "stdout",
     "output_type": "stream",
     "text": [
      "<re.Match object; span=(0, 1), match='a'>\n",
      "<re.Match object; span=(0, 2), match='aa'>\n",
      "<re.Match object; span=(0, 0), match=''>\n",
      "<re.Match object; span=(0, 5), match='boooo'>\n"
     ]
    }
   ],
   "source": [
    "# *は0回以上の繰り返し\n",
    "match1 = re.search('a*', 'abcdef')\n",
    "print(match1)\n",
    "match1 = re.search('a*', 'aabbcc')\n",
    "print(match1)\n",
    "match1 = re.search('a*', 'cde')\n",
    "print(match1)\n",
    "match1 = re.search('bo*', 'boooo!')\n",
    "print(match1)"
   ]
  },
  {
   "cell_type": "code",
   "execution_count": 11,
   "metadata": {},
   "outputs": [
    {
     "name": "stdout",
     "output_type": "stream",
     "text": [
      "<re.Match object; span=(0, 2), match='ab'>\n",
      "<re.Match object; span=(1, 4), match='abb'>\n",
      "None\n",
      "<re.Match object; span=(4, 13), match='hellooooo'>\n",
      "None\n"
     ]
    }
   ],
   "source": [
    "# *は直前の文字が0回でもマッチする\n",
    "match1 = re.search('abb*', 'abcdef')\n",
    "print(match1)\n",
    "match1 = re.search('abb*', 'aabbcc')\n",
    "print(match1)\n",
    "match1 = re.search('abb*', 'cde')\n",
    "print(match1)\n",
    "match1 = re.search('hello*', 'Hi, hellooooo!')\n",
    "print(match1)\n",
    "match1 = re.search('hello*', 'Hi, good morning!')\n",
    "print(match1)"
   ]
  },
  {
   "cell_type": "code",
   "execution_count": 12,
   "metadata": {},
   "outputs": [
    {
     "name": "stdout",
     "output_type": "stream",
     "text": [
      "<re.Match object; span=(2, 4), match='de'>\n",
      "<re.Match object; span=(2, 4), match='de'>\n",
      "None\n",
      "<re.Match object; span=(2, 5), match='ade'>\n",
      "<re.Match object; span=(2, 5), match='ade'>\n",
      "<re.Match object; span=(0, 6), match='It was'>\n",
      "<re.Match object; span=(25, 29), match=\"it's\">\n"
     ]
    }
   ],
   "source": [
    "#  a(b|c)dはabd | acdと同じだよって話\n",
    "match1 = re.search('ab|de', 'fgdeab')\n",
    "print(match1)\n",
    "match1 = re.search('(ab)|(de)', 'fgdeab')\n",
    "print(match1)\n",
    "match1 = re.search('a(b|d)e', 'fgdeab')\n",
    "print(match1)\n",
    "match1 = re.search('a(b|d)e', 'fgadeab')\n",
    "print(match1)\n",
    "match1 = re.search('abe|ade', 'fgadeab')\n",
    "print(match1)\n",
    "match1 = re.search(\"(I|i)t('s| is| was)\", \"It was rainy yesterday, but it's fine today.\")\n",
    "print(match1)\n",
    "match1 = re.search(\"(I|i)t('s| is| was)\", \"It rained yesterday, but it's fine today.\")\n",
    "print(match1)"
   ]
  },
  {
   "cell_type": "code",
   "execution_count": 13,
   "metadata": {},
   "outputs": [
    {
     "name": "stdout",
     "output_type": "stream",
     "text": [
      "<re.Match object; span=(3, 6), match='abc'>\n",
      "<re.Match object; span=(2, 3), match='a'>\n",
      "<re.Match object; span=(5, 13), match='category'>\n",
      "<re.Match object; span=(18, 21), match='car'>\n",
      "<re.Match object; span=(9, 15), match='cattle'>\n",
      "<re.Match object; span=(9, 12), match='cat'>\n",
      "None\n"
     ]
    }
   ],
   "source": [
    "# 各演算子の強さの確認\n",
    "# 和(a\\b) < 連接(ab) < 閉包(a*b*)\n",
    "match1 = re.search('a(bc|b)*', 'defabcxyz')\n",
    "print(match1)\n",
    "match1 = re.search('a(bc|b)*', 'bbacbabbbbc')\n",
    "print(match1)\n",
    "match1 = re.search('ca(r|t(egory|tle|))', 'What category is this cat in?')\n",
    "print(match1)\n",
    "match1 = re.search('ca(r|t(egory|tle|))', 'No, this is not a carpet.')\n",
    "print(match1)\n",
    "match1 = re.search('ca(r|t(egory|tle|))', 'We saw a cattle car almost hit the cat.')\n",
    "print(match1)\n",
    "match1 = re.search('ca(r|t(egory|tle|))', 'Please locate him.')\n",
    "print(match1)\n",
    "match1 = re.search('ca(r|t(egory|tle|))', \"Don't play castanets.\")\n",
    "print(match1)"
   ]
  },
  {
   "cell_type": "code",
   "execution_count": null,
   "metadata": {},
   "outputs": [],
   "source": []
  }
 ],
 "metadata": {
  "kernelspec": {
   "display_name": "Python 3",
   "language": "python",
   "name": "python3"
  },
  "language_info": {
   "codemirror_mode": {
    "name": "ipython",
    "version": 3
   },
   "file_extension": ".py",
   "mimetype": "text/x-python",
   "name": "python",
   "nbconvert_exporter": "python",
   "pygments_lexer": "ipython3",
   "version": "3.8.5"
  }
 },
 "nbformat": 4,
 "nbformat_minor": 4
}
