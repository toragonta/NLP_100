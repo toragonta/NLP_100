{
 "cells": [
  {
   "cell_type": "code",
   "execution_count": 1,
   "metadata": {},
   "outputs": [
    {
     "name": "stdout",
     "output_type": "stream",
     "text": [
      "/home/kohki/NLP_100\n"
     ]
    }
   ],
   "source": [
    "# わざわざWSL上に環境作るハメに...\n",
    "# notebookのコピーってどうやるんやろうね\n",
    "!pwd"
   ]
  },
  {
   "cell_type": "code",
   "execution_count": 32,
   "metadata": {},
   "outputs": [
    {
     "name": "stdout",
     "output_type": "stream",
     "text": [
      "2780\n"
     ]
    },
    {
     "data": {
      "text/plain": [
       "\"\\nreadlineが正攻法かな\\n\\ndata = open('popular-names.txt','r')\\nlines = data.readlines()\\ndata.close()\\n\\npandasでごちゃちゃやるのも悪くないね\\n\\nimport pandas as pd\\n\\ndf = pd.read_table('./popular-names.txt', header=None, sep='\\t', names=['name', 'sex', 'number', 'year'])\\nprint(len(df))\\n\""
      ]
     },
     "execution_count": 32,
     "metadata": {},
     "output_type": "execute_result"
    }
   ],
   "source": [
    "# 問題10\n",
    "f = open('popular-names.txt', 'r', encoding='UTF-8')\n",
    "row_num = 0\n",
    "for row in f:\n",
    "    row_num += 1\n",
    "f.close()\n",
    "print(row_num)\n",
    "\n",
    "'''\n",
    "readlineが正攻法かな\n",
    "\n",
    "data = open('popular-names.txt','r')\n",
    "lines = data.readlines()\n",
    "data.close()\n",
    "\n",
    "pandasでごちゃちゃやるのも悪くないね\n",
    "\n",
    "import pandas as pd\n",
    "\n",
    "df = pd.read_table('./popular-names.txt', header=None, sep='\\t', names=['name', 'sex', 'number', 'year'])\n",
    "print(len(df))\n",
    "'''"
   ]
  },
  {
   "cell_type": "code",
   "execution_count": 3,
   "metadata": {},
   "outputs": [
    {
     "name": "stdout",
     "output_type": "stream",
     "text": [
      " 2780 11120 55026 popular-names.txt\n"
     ]
    }
   ],
   "source": [
    "# 問題10の確認\n",
    "!wc popular-names.txt"
   ]
  },
  {
   "cell_type": "code",
   "execution_count": 27,
   "metadata": {},
   "outputs": [
    {
     "name": "stdout",
     "output_type": "stream",
     "text": [
      "Mary F 7065 1880\n",
      "Anna F 2604 1880\n",
      "Emma F 2003 1880\n",
      "Elizabeth F 1939 1880\n",
      "Minnie F 1746 1880\n",
      "Margaret F 1578 1880\n",
      "Ida F 1472 1880\n",
      "Alice F 1414 1880\n",
      "Bertha F 1320 1880\n",
      "Sarah F 1288 1880\n"
     ]
    },
    {
     "data": {
      "text/plain": [
       "\"\\ndata = open('popular-names.txt','r')\\nlines = data.readlines()\\ndata.close()\\n\\nfor line in lines:\\n   print(line.replace('\\t', ' '), end='')\\n\""
      ]
     },
     "execution_count": 27,
     "metadata": {},
     "output_type": "execute_result"
    }
   ],
   "source": [
    "# 問題11\n",
    "\n",
    "with open(\"popular-names.txt\", \"r\", encoding='UTF-8') as f:\n",
    "    lines = f.readlines() # なるほどreadlinesで一行ごとのlistになるのか\n",
    "    # 本当はこれが正解だが、出力が長いので下のforをprintしている\n",
    "    for line in lines:\n",
    "        line.replace('\\t', ' ')\n",
    "    \n",
    "    for i in range(10):\n",
    "        line = lines[i]\n",
    "        print(line.replace('\\t', ' '), end='')\n",
    "            \n",
    "'''\n",
    "data = open('popular-names.txt','r')\n",
    "lines = data.readlines()\n",
    "data.close()\n",
    "\n",
    "for line in lines:\n",
    "   print(line.replace('\\t', ' '), end='')\n",
    "'''"
   ]
  },
  {
   "cell_type": "code",
   "execution_count": 31,
   "metadata": {},
   "outputs": [
    {
     "name": "stdout",
     "output_type": "stream",
     "text": [
      "Mary F 7065 1880\n",
      "Anna F 2604 1880\n",
      "Emma F 2003 1880\n",
      "Elizabeth F 1939 1880\n",
      "Minnie F 1746 1880\n",
      "Margaret F 1578 1880\n",
      "Ida F 1472 1880\n",
      "Alice F 1414 1880\n",
      "Bertha F 1320 1880\n",
      "Sarah F 1288 1880\n"
     ]
    }
   ],
   "source": [
    "# 問題11の確認\n",
    "!head popular-names.txt |  tr '\\t' ' '\n",
    "# !sed -e 's/\\t/ /g' ./popular-names.txt | head\n",
    "# 多分解答のより自分の方が良い"
   ]
  },
  {
   "cell_type": "code",
   "execution_count": 47,
   "metadata": {},
   "outputs": [],
   "source": [
    "# 問題12\n",
    "import pandas as pd\n",
    "\n",
    "df = pd.read_table('./popular-names.txt', header=None, sep='\\t')\n",
    "df1 = df.iloc[:, [0]]\n",
    "df2 = df.iloc[:, [1]]\n",
    "df1.to_csv('col1.txt', sep='\\t')\n",
    "df2.to_csv('col2.txt', sep='\\t')"
   ]
  },
  {
   "cell_type": "code",
   "execution_count": 52,
   "metadata": {},
   "outputs": [
    {
     "name": "stdout",
     "output_type": "stream",
     "text": [
      "Mary\n",
      "Anna\n",
      "Emma\n",
      "Elizabeth\n",
      "Minnie\n",
      "Margaret\n",
      "Ida\n",
      "Alice\n",
      "Bertha\n",
      "Sarah\n"
     ]
    }
   ],
   "source": [
    "# 問題12の確認\n",
    "!cut -f 1 popular-names.txt | head\n",
    "#!cut -f 2 popular-names.txt | head\n",
    "\n",
    "'''\n",
    "この確かめ方良さげ\n",
    "!cut -f 1 ./popular-names.txt > ./col1_chk.txt\n",
    "!cat ./col1_chk.txt | head -n 5\n",
    "'''"
   ]
  },
  {
   "cell_type": "code",
   "execution_count": 5,
   "metadata": {},
   "outputs": [
    {
     "name": "stdout",
     "output_type": "stream",
     "text": [
      "              1  1\n",
      "0             0  1\n",
      "1          Mary  F\n",
      "2          Anna  F\n",
      "3          Emma  F\n",
      "4     Elizabeth  F\n",
      "...         ... ..\n",
      "2776   Benjamin  M\n",
      "2777     Elijah  M\n",
      "2778      Lucas  M\n",
      "2779      Mason  M\n",
      "2780      Logan  M\n",
      "\n",
      "[2781 rows x 2 columns]\n"
     ]
    }
   ],
   "source": [
    "# 問題13\n",
    "import pandas as pd\n",
    "\n",
    "df1 = pd.read_table('./col1.txt', header=None, sep='\\t')\n",
    "df2 = pd.read_table('./col2.txt', header=None, sep='\\t')\n",
    "\n",
    "# 無理矢理ver\n",
    "df_concat = pd.concat([df1.iloc[:, [1]], df2.iloc[:, [1]]], axis=1)\n",
    "print(df_concat) \n",
    "df_concat.to_csv('col_merge.txt', sep='\\t')"
   ]
  },
  {
   "cell_type": "code",
   "execution_count": 7,
   "metadata": {},
   "outputs": [
    {
     "name": "stdout",
     "output_type": "stream",
     "text": [
      "\t0\t\t1\n",
      "0\tMary\t0\tF\n",
      "1\tAnna\t1\tF\n",
      "2\tEmma\t2\tF\n",
      "3\tElizabeth\t3\tF\n",
      "4\tMinnie\t4\tF\n",
      "5\tMargaret\t5\tF\n",
      "6\tIda\t6\tF\n",
      "7\tAlice\t7\tF\n",
      "8\tBertha\t8\tF\n"
     ]
    }
   ],
   "source": [
    "# 問題13の確認\n",
    "!paste col1.txt col2.txt | head"
   ]
  },
  {
   "cell_type": "code",
   "execution_count": 12,
   "metadata": {},
   "outputs": [
    {
     "name": "stdin",
     "output_type": "stream",
     "text": [
      "先頭から何行表示しますか:  4\n"
     ]
    },
    {
     "name": "stdout",
     "output_type": "stream",
     "text": [
      "Mary\tF\t7065\t1880\n",
      "\n",
      "Anna\tF\t2604\t1880\n",
      "\n",
      "Emma\tF\t2003\t1880\n",
      "\n",
      "Elizabeth\tF\t1939\t1880\n",
      "\n"
     ]
    }
   ],
   "source": [
    "# 問題14\n",
    "'''\n",
    "pandasならこれでいい\n",
    "\n",
    "def output_head(N):\n",
    "  print(df.head(N))\n",
    "\n",
    "output_head(5)\n",
    "'''\n",
    "def show_row_head(n):\n",
    "    with open(\"popular-names.txt\", \"r\", encoding='UTF-8') as file:\n",
    "        lines = file.readlines()\n",
    "    if n.isdecimal():\n",
    "        n = int (n)\n",
    "        for i in range(n):\n",
    "            print(lines[i])\n",
    "    \n",
    "\n",
    "n = input('先頭から何行表示しますか: ')\n",
    "show_row_head(n)"
   ]
  },
  {
   "cell_type": "code",
   "execution_count": 13,
   "metadata": {},
   "outputs": [
    {
     "name": "stdout",
     "output_type": "stream",
     "text": [
      "Mary\tF\t7065\t1880\n",
      "Anna\tF\t2604\t1880\n",
      "Emma\tF\t2003\t1880\n",
      "Elizabeth\tF\t1939\t1880\n"
     ]
    }
   ],
   "source": [
    "# 問題14の確認\n",
    "!head -n 4 popular-names.txt"
   ]
  },
  {
   "cell_type": "code",
   "execution_count": 19,
   "metadata": {},
   "outputs": [
    {
     "name": "stdin",
     "output_type": "stream",
     "text": [
      "末尾から何行表示しますか:  3\n"
     ]
    },
    {
     "name": "stdout",
     "output_type": "stream",
     "text": [
      "Logan\tM\t12352\t2018\n",
      "\n",
      "Mason\tM\t12435\t2018\n",
      "\n",
      "Lucas\tM\t12585\t2018\n",
      "\n"
     ]
    }
   ],
   "source": [
    "# 問題15\n",
    "'''\n",
    "そう、pandasならね\n",
    "\n",
    "def output_tail(N):\n",
    "  print(df.tail(N))\n",
    "\n",
    "output_tail(5)\n",
    "'''\n",
    "def show_row_tail(n):\n",
    "    with open(\"popular-names.txt\", \"r\", encoding='UTF-8') as file:\n",
    "        lines = file.readlines()\n",
    "    if n.isdecimal():\n",
    "        n = int (n)\n",
    "        lines_tail = len(lines) - 1\n",
    "        for i in range(n):\n",
    "            print(lines[lines_tail - i])\n",
    "    \n",
    "\n",
    "n = input('末尾から何行表示しますか: ')\n",
    "show_row_tail(n)"
   ]
  },
  {
   "cell_type": "code",
   "execution_count": 20,
   "metadata": {},
   "outputs": [
    {
     "name": "stdout",
     "output_type": "stream",
     "text": [
      "Lucas\tM\t12585\t2018\n",
      "Mason\tM\t12435\t2018\n",
      "Logan\tM\t12352\t2018\n"
     ]
    }
   ],
   "source": [
    "# 問題15の確認\n",
    "!tail -n 3 popular-names.txt"
   ]
  },
  {
   "cell_type": "code",
   "execution_count": 12,
   "metadata": {},
   "outputs": [
    {
     "data": {
      "text/plain": [
       "'\\n断念、調べたらpandasを使った書き方がスマートだった\\nimport numpy as np\\n\\ndef file_split(n):\\n    with open(\"popular-names.txt\", \"r\", encoding=\\'UTF-8\\') as file:\\n        lines = file.readlines()\\n    if n.isdecimal():\\n        n = int (n)\\n        lines_size = len(lines)\\n        num_list = list(np.array_split(range(lines_size), n))\\n        print(num_list)\\n        print(num_list[0])\\n        for i in range(len(num_list)):\\n            for j in range(num_list[i]):\\n                \\n                \\n\\nn = input(\\'何分割しますか: \\')\\nfile_split(n)\\n'"
      ]
     },
     "execution_count": 12,
     "metadata": {},
     "output_type": "execute_result"
    }
   ],
   "source": [
    "# 問題16\n",
    "\n",
    "N = 3\n",
    "import pandas as pd\n",
    "df = pd.read_csv('popular-names.txt', delimiter='\\t', header=None)\n",
    "step = - (-len(df) // N) # このstepとforの添字の積でN分割を実現\n",
    "for n in range(N):\n",
    "    df_split = df.iloc[n*step:(n+1)*step]\n",
    "    df_split.to_csv('popular-names'+str(n)+'.txt', sep='\\t',header=False, index=False)\n",
    "'''\n",
    "断念、調べたらpandasを使った書き方がスマートだった\n",
    "import numpy as np\n",
    "\n",
    "def file_split(n):\n",
    "    with open(\"popular-names.txt\", \"r\", encoding='UTF-8') as file:\n",
    "        lines = file.readlines()\n",
    "    if n.isdecimal():\n",
    "        n = int (n)\n",
    "        lines_size = len(lines)\n",
    "        num_list = list(np.array_split(range(lines_size), n))\n",
    "        print(num_list)\n",
    "        print(num_list[0])\n",
    "        for i in range(len(num_list)):\n",
    "            for j in range(num_list[i]):\n",
    "                \n",
    "                \n",
    "\n",
    "n = input('何分割しますか: ')\n",
    "file_split(n)\n",
    "'''"
   ]
  },
  {
   "cell_type": "code",
   "execution_count": 14,
   "metadata": {},
   "outputs": [],
   "source": [
    "# 問題16の確認\n",
    "!split -n 3 popular-names.txt"
   ]
  },
  {
   "cell_type": "code",
   "execution_count": 14,
   "metadata": {},
   "outputs": [
    {
     "data": {
      "text/plain": [
       "array(['Abigail', 'Aiden', 'Alexander', 'Alexis', 'Alice', 'Amanda',\n",
       "       'Amelia', 'Amy', 'Andrew', 'Angela', 'Anna', 'Annie', 'Anthony',\n",
       "       'Ashley', 'Austin', 'Ava', 'Barbara', 'Benjamin', 'Bertha',\n",
       "       'Bessie', 'Betty', 'Brandon', 'Brian', 'Brittany', 'Carol',\n",
       "       'Carolyn', 'Charles', 'Charlotte', 'Chloe', 'Christopher', 'Clara',\n",
       "       'Crystal', 'Cynthia', 'Daniel', 'David', 'Deborah', 'Debra',\n",
       "       'Donald', 'Donna', 'Doris', 'Dorothy', 'Edward', 'Elijah',\n",
       "       'Elizabeth', 'Emily', 'Emma', 'Ethan', 'Ethel', 'Evelyn',\n",
       "       'Florence', 'Frances', 'Frank', 'Gary', 'George', 'Hannah',\n",
       "       'Harper', 'Harry', 'Heather', 'Helen', 'Henry', 'Ida', 'Isabella',\n",
       "       'Jacob', 'James', 'Jason', 'Jayden', 'Jeffrey', 'Jennifer',\n",
       "       'Jessica', 'Joan', 'John', 'Joseph', 'Joshua', 'Judith', 'Julie',\n",
       "       'Justin', 'Karen', 'Kathleen', 'Kelly', 'Kimberly', 'Larry',\n",
       "       'Laura', 'Lauren', 'Liam', 'Lillian', 'Linda', 'Lisa', 'Logan',\n",
       "       'Lori', 'Lucas', 'Madison', 'Margaret', 'Marie', 'Mark', 'Mary',\n",
       "       'Mason', 'Matthew', 'Megan', 'Melissa', 'Mia', 'Michael',\n",
       "       'Michelle', 'Mildred', 'Minnie', 'Nancy', 'Nicholas', 'Nicole',\n",
       "       'Noah', 'Oliver', 'Olivia', 'Pamela', 'Patricia', 'Rachel',\n",
       "       'Rebecca', 'Richard', 'Robert', 'Ronald', 'Ruth', 'Samantha',\n",
       "       'Sandra', 'Sarah', 'Scott', 'Sharon', 'Shirley', 'Sophia',\n",
       "       'Stephanie', 'Steven', 'Susan', 'Tammy', 'Taylor', 'Thomas',\n",
       "       'Tracy', 'Tyler', 'Virginia', 'Walter', 'William'], dtype=object)"
      ]
     },
     "execution_count": 14,
     "metadata": {},
     "output_type": "execute_result"
    }
   ],
   "source": [
    "# 問題17\n",
    "import numpy as np\n",
    "import pandas as pd\n",
    "df = pd.read_table('./popular-names.txt', header=None, sep='\\t', names=['name', 'sex', 'number', 'year'])\n",
    "name_unique = df['name'].unique()\n",
    "name_unique_sort = np.sort(name_unique)\n",
    "name_unique_sort"
   ]
  },
  {
   "cell_type": "code",
   "execution_count": 15,
   "metadata": {},
   "outputs": [
    {
     "name": "stdout",
     "output_type": "stream",
     "text": [
      "Abigail\n",
      "Aiden\n",
      "Alexander\n",
      "Alexis\n",
      "Alice\n",
      "Amanda\n",
      "Amelia\n",
      "Amy\n",
      "Andrew\n",
      "Angela\n"
     ]
    }
   ],
   "source": [
    "# 問題17の確認\n",
    "!cut -f1 popular-names.txt | sort | uniq | head"
   ]
  },
  {
   "cell_type": "code",
   "execution_count": 16,
   "metadata": {},
   "outputs": [
    {
     "data": {
      "text/html": [
       "<div>\n",
       "<style scoped>\n",
       "    .dataframe tbody tr th:only-of-type {\n",
       "        vertical-align: middle;\n",
       "    }\n",
       "\n",
       "    .dataframe tbody tr th {\n",
       "        vertical-align: top;\n",
       "    }\n",
       "\n",
       "    .dataframe thead th {\n",
       "        text-align: right;\n",
       "    }\n",
       "</style>\n",
       "<table border=\"1\" class=\"dataframe\">\n",
       "  <thead>\n",
       "    <tr style=\"text-align: right;\">\n",
       "      <th></th>\n",
       "      <th>name</th>\n",
       "      <th>sex</th>\n",
       "      <th>number</th>\n",
       "      <th>year</th>\n",
       "    </tr>\n",
       "  </thead>\n",
       "  <tbody>\n",
       "    <tr>\n",
       "      <th>1340</th>\n",
       "      <td>Linda</td>\n",
       "      <td>F</td>\n",
       "      <td>99689</td>\n",
       "      <td>1947</td>\n",
       "    </tr>\n",
       "    <tr>\n",
       "      <th>1360</th>\n",
       "      <td>Linda</td>\n",
       "      <td>F</td>\n",
       "      <td>96211</td>\n",
       "      <td>1948</td>\n",
       "    </tr>\n",
       "    <tr>\n",
       "      <th>1350</th>\n",
       "      <td>James</td>\n",
       "      <td>M</td>\n",
       "      <td>94757</td>\n",
       "      <td>1947</td>\n",
       "    </tr>\n",
       "    <tr>\n",
       "      <th>1550</th>\n",
       "      <td>Michael</td>\n",
       "      <td>M</td>\n",
       "      <td>92704</td>\n",
       "      <td>1957</td>\n",
       "    </tr>\n",
       "    <tr>\n",
       "      <th>1351</th>\n",
       "      <td>Robert</td>\n",
       "      <td>M</td>\n",
       "      <td>91640</td>\n",
       "      <td>1947</td>\n",
       "    </tr>\n",
       "    <tr>\n",
       "      <th>...</th>\n",
       "      <td>...</td>\n",
       "      <td>...</td>\n",
       "      <td>...</td>\n",
       "      <td>...</td>\n",
       "    </tr>\n",
       "    <tr>\n",
       "      <th>27</th>\n",
       "      <td>Annie</td>\n",
       "      <td>F</td>\n",
       "      <td>1326</td>\n",
       "      <td>1881</td>\n",
       "    </tr>\n",
       "    <tr>\n",
       "      <th>28</th>\n",
       "      <td>Bertha</td>\n",
       "      <td>F</td>\n",
       "      <td>1324</td>\n",
       "      <td>1881</td>\n",
       "    </tr>\n",
       "    <tr>\n",
       "      <th>8</th>\n",
       "      <td>Bertha</td>\n",
       "      <td>F</td>\n",
       "      <td>1320</td>\n",
       "      <td>1880</td>\n",
       "    </tr>\n",
       "    <tr>\n",
       "      <th>29</th>\n",
       "      <td>Alice</td>\n",
       "      <td>F</td>\n",
       "      <td>1308</td>\n",
       "      <td>1881</td>\n",
       "    </tr>\n",
       "    <tr>\n",
       "      <th>9</th>\n",
       "      <td>Sarah</td>\n",
       "      <td>F</td>\n",
       "      <td>1288</td>\n",
       "      <td>1880</td>\n",
       "    </tr>\n",
       "  </tbody>\n",
       "</table>\n",
       "<p>2780 rows × 4 columns</p>\n",
       "</div>"
      ],
      "text/plain": [
       "         name sex  number  year\n",
       "1340    Linda   F   99689  1947\n",
       "1360    Linda   F   96211  1948\n",
       "1350    James   M   94757  1947\n",
       "1550  Michael   M   92704  1957\n",
       "1351   Robert   M   91640  1947\n",
       "...       ...  ..     ...   ...\n",
       "27      Annie   F    1326  1881\n",
       "28     Bertha   F    1324  1881\n",
       "8      Bertha   F    1320  1880\n",
       "29      Alice   F    1308  1881\n",
       "9       Sarah   F    1288  1880\n",
       "\n",
       "[2780 rows x 4 columns]"
      ]
     },
     "execution_count": 16,
     "metadata": {},
     "output_type": "execute_result"
    }
   ],
   "source": [
    "# 問題18\n",
    "import pandas as pd\n",
    "df = pd.read_table('./popular-names.txt', header=None, sep='\\t', names=['name', 'sex', 'number', 'year'])\n",
    "df_sort = df.sort_values('number', ascending=False)\n",
    "df_sort"
   ]
  },
  {
   "cell_type": "code",
   "execution_count": 27,
   "metadata": {},
   "outputs": [
    {
     "name": "stdout",
     "output_type": "stream",
     "text": [
      "Linda\tF\t99689\t1947\n",
      "Linda\tF\t96211\t1948\n",
      "James\tM\t94757\t1947\n",
      "Michael\tM\t92704\t1957\n",
      "Robert\tM\t91640\t1947\n",
      "Linda\tF\t91016\t1949\n",
      "Michael\tM\t90656\t1956\n",
      "Michael\tM\t90517\t1958\n",
      "James\tM\t88584\t1948\n",
      "Michael\tM\t88528\t1954\n"
     ]
    }
   ],
   "source": [
    "# 問題18の確認\n",
    "# sort -rnkってやるんだ\n",
    "!sort -rnk 3 popular-names.txt | head"
   ]
  },
  {
   "cell_type": "code",
   "execution_count": 28,
   "metadata": {},
   "outputs": [
    {
     "data": {
      "text/plain": [
       "James      118\n",
       "William    111\n",
       "John       108\n",
       "Robert     108\n",
       "Mary        92\n",
       "          ... \n",
       "Carolyn      1\n",
       "Walter       1\n",
       "Pamela       1\n",
       "Lori         1\n",
       "Julie        1\n",
       "Name: name, Length: 136, dtype: int64"
      ]
     },
     "execution_count": 28,
     "metadata": {},
     "output_type": "execute_result"
    }
   ],
   "source": [
    "# 問題19\n",
    "import pandas as pd\n",
    "df = pd.read_table('./popular-names.txt', header=None, sep='\\t', names=['name', 'sex', 'number', 'year'])\n",
    "name_counts = df['name'].value_counts()\n",
    "name_counts"
   ]
  },
  {
   "cell_type": "code",
   "execution_count": 42,
   "metadata": {},
   "outputs": [
    {
     "name": "stdout",
     "output_type": "stream",
     "text": [
      "    118 James\n",
      "    111 William\n",
      "    108 Robert\n",
      "    108 John\n",
      "     92 Mary\n",
      "     75 Charles\n",
      "     74 Michael\n",
      "     73 Elizabeth\n",
      "     70 Joseph\n",
      "     60 Margaret\n"
     ]
    }
   ],
   "source": [
    "# 問題19の確認\n",
    "# 2回sortを入れるのがポイント\n",
    "!cut -f 1 popular-names.txt | sort | uniq -c | sort -rn | head"
   ]
  },
  {
   "cell_type": "code",
   "execution_count": null,
   "metadata": {},
   "outputs": [],
   "source": []
  }
 ],
 "metadata": {
  "kernelspec": {
   "display_name": "Python 3",
   "language": "python",
   "name": "python3"
  },
  "language_info": {
   "codemirror_mode": {
    "name": "ipython",
    "version": 3
   },
   "file_extension": ".py",
   "mimetype": "text/x-python",
   "name": "python",
   "nbconvert_exporter": "python",
   "pygments_lexer": "ipython3",
   "version": "3.8.5"
  }
 },
 "nbformat": 4,
 "nbformat_minor": 4
}
